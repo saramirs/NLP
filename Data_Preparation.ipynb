{
  "cells": [
    {
      "cell_type": "code",
      "execution_count": null,
      "metadata": {
        "colab": {
          "base_uri": "https://localhost:8080/"
        },
        "id": "Qj2UGIWe6axy",
        "outputId": "3b62a7cf-083c-486f-8880-92396c9c2ec2"
      },
      "outputs": [
        {
          "output_type": "stream",
          "name": "stdout",
          "text": [
            "Requirement already satisfied: ijson in /usr/local/lib/python3.11/dist-packages (3.4.0)\n",
            "Collecting ftfy\n",
            "  Downloading ftfy-6.3.1-py3-none-any.whl.metadata (7.3 kB)\n",
            "Requirement already satisfied: regex in /usr/local/lib/python3.11/dist-packages (2024.11.6)\n",
            "Requirement already satisfied: tqdm in /usr/local/lib/python3.11/dist-packages (4.67.1)\n",
            "Requirement already satisfied: wcwidth in /usr/local/lib/python3.11/dist-packages (from ftfy) (0.2.13)\n",
            "Downloading ftfy-6.3.1-py3-none-any.whl (44 kB)\n",
            "\u001b[2K   \u001b[90m━━━━━━━━━━━━━━━━━━━━━━━━━━━━━━━━━━━━━━━━\u001b[0m \u001b[32m44.8/44.8 kB\u001b[0m \u001b[31m3.6 MB/s\u001b[0m eta \u001b[36m0:00:00\u001b[0m\n",
            "\u001b[?25hInstalling collected packages: ftfy\n",
            "Successfully installed ftfy-6.3.1\n",
            "Collecting langdetect\n",
            "  Downloading langdetect-1.0.9.tar.gz (981 kB)\n",
            "\u001b[2K     \u001b[90m━━━━━━━━━━━━━━━━━━━━━━━━━━━━━━━━━━━━━━\u001b[0m \u001b[32m981.5/981.5 kB\u001b[0m \u001b[31m51.9 MB/s\u001b[0m eta \u001b[36m0:00:00\u001b[0m\n",
            "\u001b[?25h  Preparing metadata (setup.py) ... \u001b[?25l\u001b[?25hdone\n",
            "Requirement already satisfied: six in /usr/local/lib/python3.11/dist-packages (from langdetect) (1.17.0)\n",
            "Building wheels for collected packages: langdetect\n",
            "  Building wheel for langdetect (setup.py) ... \u001b[?25l\u001b[?25hdone\n",
            "  Created wheel for langdetect: filename=langdetect-1.0.9-py3-none-any.whl size=993223 sha256=cb631ca5a514f919bd7928fdd156f0e14f4d3fbb22ab0e36fe6640c29971549a\n",
            "  Stored in directory: /root/.cache/pip/wheels/0a/f2/b2/e5ca405801e05eb7c8ed5b3b4bcf1fcabcd6272c167640072e\n",
            "Successfully built langdetect\n",
            "Installing collected packages: langdetect\n",
            "Successfully installed langdetect-1.0.9\n"
          ]
        }
      ],
      "source": [
        "# Install the `ijson` library for efficient, incremental JSON parsing (especially useful for large files)\n",
        "!pip install ijson\n",
        "\n",
        "# Install `ftfy` (Fixes Text For You) for fixing Unicode text issues,\n",
        "# `regex` for enhanced regular expression support (beyond Python's built-in `re`),\n",
        "# and `tqdm` for progress bars to visualize loops and operations\n",
        "!pip install ftfy regex tqdm\n",
        "\n",
        "# Install `langdetect`, a language detection library to identify the language of a given text (useful for filtering non-English tweets)\n",
        "!pip install langdetect"
      ]
    },
    {
      "cell_type": "code",
      "execution_count": null,
      "metadata": {
        "id": "1Bfj2VVIY7TR"
      },
      "outputs": [],
      "source": [
        "import os\n",
        "import json\n",
        "import random\n",
        "import pickle\n",
        "from collections import defaultdict, Counter\n",
        "import pandas as pd\n",
        "import numpy as np\n",
        "import ijson\n",
        "import matplotlib.pyplot as plt\n",
        "import seaborn as sns\n",
        "from IPython.display import display\n",
        "from tqdm import tqdm\n",
        "from sklearn.model_selection import train_test_split\n",
        "from langdetect import detect\n",
        "from langdetect.lang_detect_exception import LangDetectException"
      ]
    },
    {
      "cell_type": "code",
      "execution_count": null,
      "metadata": {
        "colab": {
          "base_uri": "https://localhost:8080/"
        },
        "id": "maCfd-FSZFOF",
        "outputId": "9b945e8b-df75-4f01-e5fc-ac701b8f3b8a"
      },
      "outputs": [
        {
          "output_type": "stream",
          "name": "stdout",
          "text": [
            "Mounted at /content/drive\n"
          ]
        }
      ],
      "source": [
        "from google.colab import drive\n",
        "drive.mount('/content/drive')\n",
        "data_dir = \"/content/drive/MyDrive/TwiBot-22/TwiBot-22/\""
      ]
    },
    {
      "cell_type": "code",
      "execution_count": null,
      "metadata": {
        "colab": {
          "base_uri": "https://localhost:8080/"
        },
        "id": "N4W0bIbbrO0g",
        "outputId": "b872806d-a62f-4e60-e86e-34aa7273128d"
      },
      "outputs": [
        {
          "output_type": "stream",
          "name": "stdout",
          "text": [
            "Loading user data...\n"
          ]
        },
        {
          "output_type": "stream",
          "name": "stderr",
          "text": [
            "Loading users: 100%|██████████| 1000000/1000000 [00:02<00:00, 456169.67it/s]\n"
          ]
        },
        {
          "output_type": "stream",
          "name": "stdout",
          "text": [
            "Loading tweets for users...\n",
            "📂 Found 9 tweet files to process.\n",
            "📄 Streaming file: tweet_2.json\n"
          ]
        },
        {
          "output_type": "stream",
          "name": "stderr",
          "text": [
            "Processing tweet_2.json: 10000000it [03:42, 44953.97it/s]\n"
          ]
        },
        {
          "output_type": "stream",
          "name": "stdout",
          "text": [
            "📄 Streaming file: tweet_1.json\n"
          ]
        },
        {
          "output_type": "stream",
          "name": "stderr",
          "text": [
            "Processing tweet_1.json: 10000000it [04:01, 41447.35it/s]\n"
          ]
        },
        {
          "output_type": "stream",
          "name": "stdout",
          "text": [
            "📄 Streaming file: tweet_3.json\n"
          ]
        },
        {
          "output_type": "stream",
          "name": "stderr",
          "text": [
            "Processing tweet_3.json: 10000000it [03:48, 43854.02it/s]\n"
          ]
        },
        {
          "output_type": "stream",
          "name": "stdout",
          "text": [
            "📄 Streaming file: tweet_4.json\n"
          ]
        },
        {
          "output_type": "stream",
          "name": "stderr",
          "text": [
            "Processing tweet_4.json: 10000000it [03:53, 42754.81it/s]\n"
          ]
        },
        {
          "output_type": "stream",
          "name": "stdout",
          "text": [
            "📄 Streaming file: tweet_5.json\n"
          ]
        },
        {
          "output_type": "stream",
          "name": "stderr",
          "text": [
            "Processing tweet_5.json: 10000000it [04:39, 35808.95it/s]\n"
          ]
        },
        {
          "output_type": "stream",
          "name": "stdout",
          "text": [
            "📄 Streaming file: tweet_6.json\n"
          ]
        },
        {
          "output_type": "stream",
          "name": "stderr",
          "text": [
            "Processing tweet_6.json: 10000000it [04:10, 39923.54it/s]\n"
          ]
        },
        {
          "output_type": "stream",
          "name": "stdout",
          "text": [
            "📄 Streaming file: tweet_7.json\n"
          ]
        },
        {
          "output_type": "stream",
          "name": "stderr",
          "text": [
            "Processing tweet_7.json: 10000000it [04:17, 38837.28it/s]\n"
          ]
        },
        {
          "output_type": "stream",
          "name": "stdout",
          "text": [
            "📄 Streaming file: tweet_8.json\n"
          ]
        },
        {
          "output_type": "stream",
          "name": "stderr",
          "text": [
            "Processing tweet_8.json: 8217457it [03:47, 36071.04it/s]\n"
          ]
        },
        {
          "output_type": "stream",
          "name": "stdout",
          "text": [
            "📄 Streaming file: tweet_0.json\n"
          ]
        },
        {
          "output_type": "stream",
          "name": "stderr",
          "text": [
            "Processing tweet_0.json: 10000000it [04:29, 37143.25it/s]\n"
          ]
        },
        {
          "output_type": "stream",
          "name": "stdout",
          "text": [
            "Data loading complete.\n"
          ]
        }
      ],
      "source": [
        "# Load user.json, label.csv, split.csv, tweet files (tweet_0.json to tweet_8.json)\n",
        "\n",
        "user_path = os.path.join(data_dir, \"user.json\")\n",
        "\n",
        "def clean_user_id(uid):\n",
        "    return int(uid[1:]) if isinstance(uid, str) and uid.startswith('u') else int(uid)\n",
        "\n",
        "def load_user_df(user_path, max_users=None):\n",
        "    user_data = []\n",
        "\n",
        "    with open(user_path, 'r') as f:\n",
        "        first_char = f.read(1)\n",
        "        f.seek(0)\n",
        "\n",
        "        if first_char == '[':\n",
        "            users = json.load(f)\n",
        "        else:\n",
        "            users = [json.loads(line) for line in f]\n",
        "\n",
        "    if max_users:\n",
        "        users = users[:max_users]\n",
        "\n",
        "    for user in users:\n",
        "        user_data.append({\n",
        "            'id': user['id'],\n",
        "            'name': user.get('name', ''),\n",
        "            'username': user.get('username', ''),\n",
        "            'description': user.get('description', ''),\n",
        "            'location': user.get('location', ''),\n",
        "            'followers_count': user.get('public_metrics', {}).get('followers_count', 0),\n",
        "            'following_count': user.get('public_metrics', {}).get('following_count', 0),\n",
        "            'tweet_count': user.get('public_metrics', {}).get('tweet_count', 0),\n",
        "            'listed_count': user.get('public_metrics', {}).get('listed_count', 0),\n",
        "            'created_at': user.get('created_at', ''),\n",
        "            'profile_image_url': user.get('profile_image_url', ''),\n",
        "            'url': user.get('url', ''),\n",
        "            'verified': user.get('verified', False)\n",
        "        })\n",
        "\n",
        "    # Define user_df\n",
        "    user_df = pd.DataFrame(user_data)\n",
        "\n",
        "    # Compute behavioral features\n",
        "    user_df['follower_following_ratio'] = user_df['followers_count'] / (user_df['following_count'] + 1)\n",
        "    user_df['log_followers'] = np.log1p(user_df['followers_count'])\n",
        "    user_df['log_following'] = np.log1p(user_df['following_count'])\n",
        "    user_df['log_tweet_count'] = np.log1p(user_df['tweet_count'])\n",
        "\n",
        "    return user_df\n",
        "\n",
        "# Load labels\n",
        "def load_labels(label_path):\n",
        "    labels_df = pd.read_csv(label_path)\n",
        "    label_dict = dict(zip(labels_df['id'], labels_df['label']))\n",
        "    return label_dict\n",
        "\n",
        "# Load split info\n",
        "def load_split(split_path):\n",
        "    split_df = pd.read_csv(split_path)\n",
        "    split_dict = dict(zip(split_df['id'], split_df['split']))\n",
        "    return split_dict\n",
        "\n",
        "# Load tweets and map user_id to list of tweets (up to 10 most recent):\n",
        "  # Iterates through the 9 files (tweet_0.json to tweet_8.json).\n",
        "  # Reads each file line-by-line (so it's memory-efficient).\n",
        "  # Extracts the tweet text and groups them by author_id in a dictionary.\n",
        "  # Keeps only the first 10 tweets per user (user_tweets[uid] = user_tweets[uid][:10]).\n",
        "\n",
        "def stream_tweets_by_user_from_all_files(data_dir, target_user_ids, max_per_user=10):\n",
        "    user_tweets = defaultdict(list)\n",
        "\n",
        "    # List all tweet files (assuming they are named like 'tweet_0.json', 'tweet_1.json', ...)\n",
        "    tweet_files = [f for f in os.listdir(data_dir) if f.startswith('tweet_') and f.endswith('.json')]\n",
        "\n",
        "    print(f\"📂 Found {len(tweet_files)} tweet files to process.\")\n",
        "\n",
        "    # Process each tweet file\n",
        "    for tweet_file in tweet_files:\n",
        "        tweet_path = os.path.join(data_dir, tweet_file)\n",
        "        print(f\"📄 Streaming file: {tweet_file}\")\n",
        "\n",
        "        with open(tweet_path, 'r') as f:\n",
        "            tweets = ijson.items(f, 'item')  # 'item' means stream items of top-level array\n",
        "\n",
        "            for tweet in tqdm(tweets, desc=f\"Processing {tweet_file}\"):\n",
        "                author_id = tweet.get('author_id')\n",
        "                if author_id in target_user_ids:\n",
        "                    user_tweets[author_id].append(tweet.get('text', ''))\n",
        "                    if len(user_tweets[author_id]) >= max_per_user:\n",
        "                        target_user_ids.remove(author_id)\n",
        "                if not target_user_ids:\n",
        "                    break  # stop once all needed users are done\n",
        "\n",
        "        if not target_user_ids:\n",
        "            break  # If all users are processed, stop processing files\n",
        "\n",
        "    return dict(user_tweets)\n",
        "\n",
        "\n",
        "# ================================================================================================================\n",
        "\n",
        "# 1. Load user data (first \"max_users\" users)\n",
        "print(\"Loading user data...\")\n",
        "user_df = load_user_df(user_path, max_users=1000000)\n",
        "user_df[\"id\"] = user_df[\"id\"].apply(clean_user_id)\n",
        "\n",
        "# Convert to int if the IDs have 'u' prefix or are stored as strings\n",
        "sample_user_ids = set(int(uid[1:]) if isinstance(uid, str) and uid.startswith('u') else int(uid) for uid in user_df[\"id\"])\n",
        "\n",
        "# Progress bar for loading users\n",
        "for _ in tqdm(user_df.itertuples(), total=len(user_df), desc=\"Loading users\"):\n",
        "    pass  # Simulating progress for loading users (you can add logic here if needed)\n",
        "\n",
        "# ================================================================================================================\n",
        "\n",
        "# 2. Load labels and split\n",
        "label_dict = load_labels(os.path.join(data_dir, \"label.csv\"))\n",
        "label_dict = {clean_user_id(uid): label for uid, label in label_dict.items()}\n",
        "\n",
        "split_dict = load_split(os.path.join(data_dir, \"split.csv\"))\n",
        "split_dict = {clean_user_id(uid): split for uid, split in split_dict.items()}\n",
        "\n",
        "# ================================================================================================================\n",
        "\n",
        "# 3. Load tweets for the sampled users with a progress bar\n",
        "print(\"Loading tweets for users...\")\n",
        "\n",
        "#sample_user_ids = set(user_df[\"id\"].tolist())  # Assuming sample_user_ids are the ones you want to process\n",
        "user_tweets = stream_tweets_by_user_from_all_files(data_dir, sample_user_ids.copy(), max_per_user=10)\n",
        "\n",
        "print(\"Data loading complete.\")"
      ]
    },
    {
      "cell_type": "code",
      "execution_count": null,
      "metadata": {
        "id": "k5Wz_CzmRdot",
        "colab": {
          "base_uri": "https://localhost:8080/",
          "height": 435
        },
        "outputId": "d4d98bf8-ecbd-44bb-f52c-0e98a03ee68b"
      },
      "outputs": [
        {
          "output_type": "display_data",
          "data": {
            "text/plain": [
              "                    id                       name       username  \\\n",
              "0  1217628182611927040                 Boaz Barak   boazbaraktcs   \n",
              "1           2664730894                  olawale 💨        wale_io   \n",
              "2  1266703520205549568               panagiota_.b    b_panagiota   \n",
              "3  1089159225148882949  Jacqueline Hodges, MD MPH   jachodges_md   \n",
              "4             36741729       Matthew Stubblefield  Matthew_Brody   \n",
              "\n",
              "                                         description             location  \\\n",
              "0  Theoretical Computer Scientist. See also https...        Cambridge, MA   \n",
              "1                                         creative _                    🎈   \n",
              "2                                                  👽                 None   \n",
              "3  mama to maya. ABIM research pathway fellow @UV...  Charlottesville, VA   \n",
              "4                Father / SWT Alumnus / Longhorn Fan        United States   \n",
              "\n",
              "   followers_count  following_count  tweet_count  listed_count  \\\n",
              "0             7316              215         3098            69   \n",
              "1              123             1090         1823             0   \n",
              "2                3               62           66             0   \n",
              "3              350              577          237             1   \n",
              "4              240              297         3713             8   \n",
              "\n",
              "                  created_at  \\\n",
              "0  2020-01-16 02:02:55+00:00   \n",
              "1  2014-07-02 17:56:46+00:00   \n",
              "2  2020-05-30 12:10:45+00:00   \n",
              "3  2019-01-26 13:52:49+00:00   \n",
              "4  2009-04-30 19:01:42+00:00   \n",
              "\n",
              "                                   profile_image_url                      url  \\\n",
              "0  https://pbs.twimg.com/profile_images/125226236...  https://t.co/BoMip9FF17   \n",
              "1  https://pbs.twimg.com/profile_images/147837638...                            \n",
              "2  https://pbs.twimg.com/profile_images/142608606...                            \n",
              "3  https://pbs.twimg.com/profile_images/130229171...                            \n",
              "4  https://pbs.twimg.com/profile_images/145808462...                            \n",
              "\n",
              "   verified  follower_following_ratio  log_followers  log_following  \\\n",
              "0     False                 33.870370       8.897956       5.375278   \n",
              "1     False                  0.112741       4.820282       6.994850   \n",
              "2     False                  0.047619       1.386294       4.143135   \n",
              "3     False                  0.605536       5.860786       6.359574   \n",
              "4     False                  0.805369       5.484797       5.697093   \n",
              "\n",
              "   log_tweet_count  \n",
              "0         8.038835  \n",
              "1         7.508787  \n",
              "2         4.204693  \n",
              "3         5.472271  \n",
              "4         8.219865  "
            ],
            "text/html": [
              "\n",
              "  <div id=\"df-9e5cc445-7168-490d-8e19-286501c81bdb\" class=\"colab-df-container\">\n",
              "    <div>\n",
              "<style scoped>\n",
              "    .dataframe tbody tr th:only-of-type {\n",
              "        vertical-align: middle;\n",
              "    }\n",
              "\n",
              "    .dataframe tbody tr th {\n",
              "        vertical-align: top;\n",
              "    }\n",
              "\n",
              "    .dataframe thead th {\n",
              "        text-align: right;\n",
              "    }\n",
              "</style>\n",
              "<table border=\"1\" class=\"dataframe\">\n",
              "  <thead>\n",
              "    <tr style=\"text-align: right;\">\n",
              "      <th></th>\n",
              "      <th>id</th>\n",
              "      <th>name</th>\n",
              "      <th>username</th>\n",
              "      <th>description</th>\n",
              "      <th>location</th>\n",
              "      <th>followers_count</th>\n",
              "      <th>following_count</th>\n",
              "      <th>tweet_count</th>\n",
              "      <th>listed_count</th>\n",
              "      <th>created_at</th>\n",
              "      <th>profile_image_url</th>\n",
              "      <th>url</th>\n",
              "      <th>verified</th>\n",
              "      <th>follower_following_ratio</th>\n",
              "      <th>log_followers</th>\n",
              "      <th>log_following</th>\n",
              "      <th>log_tweet_count</th>\n",
              "    </tr>\n",
              "  </thead>\n",
              "  <tbody>\n",
              "    <tr>\n",
              "      <th>0</th>\n",
              "      <td>1217628182611927040</td>\n",
              "      <td>Boaz Barak</td>\n",
              "      <td>boazbaraktcs</td>\n",
              "      <td>Theoretical Computer Scientist. See also https...</td>\n",
              "      <td>Cambridge, MA</td>\n",
              "      <td>7316</td>\n",
              "      <td>215</td>\n",
              "      <td>3098</td>\n",
              "      <td>69</td>\n",
              "      <td>2020-01-16 02:02:55+00:00</td>\n",
              "      <td>https://pbs.twimg.com/profile_images/125226236...</td>\n",
              "      <td>https://t.co/BoMip9FF17</td>\n",
              "      <td>False</td>\n",
              "      <td>33.870370</td>\n",
              "      <td>8.897956</td>\n",
              "      <td>5.375278</td>\n",
              "      <td>8.038835</td>\n",
              "    </tr>\n",
              "    <tr>\n",
              "      <th>1</th>\n",
              "      <td>2664730894</td>\n",
              "      <td>olawale 💨</td>\n",
              "      <td>wale_io</td>\n",
              "      <td>creative _</td>\n",
              "      <td>🎈</td>\n",
              "      <td>123</td>\n",
              "      <td>1090</td>\n",
              "      <td>1823</td>\n",
              "      <td>0</td>\n",
              "      <td>2014-07-02 17:56:46+00:00</td>\n",
              "      <td>https://pbs.twimg.com/profile_images/147837638...</td>\n",
              "      <td></td>\n",
              "      <td>False</td>\n",
              "      <td>0.112741</td>\n",
              "      <td>4.820282</td>\n",
              "      <td>6.994850</td>\n",
              "      <td>7.508787</td>\n",
              "    </tr>\n",
              "    <tr>\n",
              "      <th>2</th>\n",
              "      <td>1266703520205549568</td>\n",
              "      <td>panagiota_.b</td>\n",
              "      <td>b_panagiota</td>\n",
              "      <td>👽</td>\n",
              "      <td>None</td>\n",
              "      <td>3</td>\n",
              "      <td>62</td>\n",
              "      <td>66</td>\n",
              "      <td>0</td>\n",
              "      <td>2020-05-30 12:10:45+00:00</td>\n",
              "      <td>https://pbs.twimg.com/profile_images/142608606...</td>\n",
              "      <td></td>\n",
              "      <td>False</td>\n",
              "      <td>0.047619</td>\n",
              "      <td>1.386294</td>\n",
              "      <td>4.143135</td>\n",
              "      <td>4.204693</td>\n",
              "    </tr>\n",
              "    <tr>\n",
              "      <th>3</th>\n",
              "      <td>1089159225148882949</td>\n",
              "      <td>Jacqueline Hodges, MD MPH</td>\n",
              "      <td>jachodges_md</td>\n",
              "      <td>mama to maya. ABIM research pathway fellow @UV...</td>\n",
              "      <td>Charlottesville, VA</td>\n",
              "      <td>350</td>\n",
              "      <td>577</td>\n",
              "      <td>237</td>\n",
              "      <td>1</td>\n",
              "      <td>2019-01-26 13:52:49+00:00</td>\n",
              "      <td>https://pbs.twimg.com/profile_images/130229171...</td>\n",
              "      <td></td>\n",
              "      <td>False</td>\n",
              "      <td>0.605536</td>\n",
              "      <td>5.860786</td>\n",
              "      <td>6.359574</td>\n",
              "      <td>5.472271</td>\n",
              "    </tr>\n",
              "    <tr>\n",
              "      <th>4</th>\n",
              "      <td>36741729</td>\n",
              "      <td>Matthew Stubblefield</td>\n",
              "      <td>Matthew_Brody</td>\n",
              "      <td>Father / SWT Alumnus / Longhorn Fan</td>\n",
              "      <td>United States</td>\n",
              "      <td>240</td>\n",
              "      <td>297</td>\n",
              "      <td>3713</td>\n",
              "      <td>8</td>\n",
              "      <td>2009-04-30 19:01:42+00:00</td>\n",
              "      <td>https://pbs.twimg.com/profile_images/145808462...</td>\n",
              "      <td></td>\n",
              "      <td>False</td>\n",
              "      <td>0.805369</td>\n",
              "      <td>5.484797</td>\n",
              "      <td>5.697093</td>\n",
              "      <td>8.219865</td>\n",
              "    </tr>\n",
              "  </tbody>\n",
              "</table>\n",
              "</div>\n",
              "    <div class=\"colab-df-buttons\">\n",
              "\n",
              "  <div class=\"colab-df-container\">\n",
              "    <button class=\"colab-df-convert\" onclick=\"convertToInteractive('df-9e5cc445-7168-490d-8e19-286501c81bdb')\"\n",
              "            title=\"Convert this dataframe to an interactive table.\"\n",
              "            style=\"display:none;\">\n",
              "\n",
              "  <svg xmlns=\"http://www.w3.org/2000/svg\" height=\"24px\" viewBox=\"0 -960 960 960\">\n",
              "    <path d=\"M120-120v-720h720v720H120Zm60-500h600v-160H180v160Zm220 220h160v-160H400v160Zm0 220h160v-160H400v160ZM180-400h160v-160H180v160Zm440 0h160v-160H620v160ZM180-180h160v-160H180v160Zm440 0h160v-160H620v160Z\"/>\n",
              "  </svg>\n",
              "    </button>\n",
              "\n",
              "  <style>\n",
              "    .colab-df-container {\n",
              "      display:flex;\n",
              "      gap: 12px;\n",
              "    }\n",
              "\n",
              "    .colab-df-convert {\n",
              "      background-color: #E8F0FE;\n",
              "      border: none;\n",
              "      border-radius: 50%;\n",
              "      cursor: pointer;\n",
              "      display: none;\n",
              "      fill: #1967D2;\n",
              "      height: 32px;\n",
              "      padding: 0 0 0 0;\n",
              "      width: 32px;\n",
              "    }\n",
              "\n",
              "    .colab-df-convert:hover {\n",
              "      background-color: #E2EBFA;\n",
              "      box-shadow: 0px 1px 2px rgba(60, 64, 67, 0.3), 0px 1px 3px 1px rgba(60, 64, 67, 0.15);\n",
              "      fill: #174EA6;\n",
              "    }\n",
              "\n",
              "    .colab-df-buttons div {\n",
              "      margin-bottom: 4px;\n",
              "    }\n",
              "\n",
              "    [theme=dark] .colab-df-convert {\n",
              "      background-color: #3B4455;\n",
              "      fill: #D2E3FC;\n",
              "    }\n",
              "\n",
              "    [theme=dark] .colab-df-convert:hover {\n",
              "      background-color: #434B5C;\n",
              "      box-shadow: 0px 1px 3px 1px rgba(0, 0, 0, 0.15);\n",
              "      filter: drop-shadow(0px 1px 2px rgba(0, 0, 0, 0.3));\n",
              "      fill: #FFFFFF;\n",
              "    }\n",
              "  </style>\n",
              "\n",
              "    <script>\n",
              "      const buttonEl =\n",
              "        document.querySelector('#df-9e5cc445-7168-490d-8e19-286501c81bdb button.colab-df-convert');\n",
              "      buttonEl.style.display =\n",
              "        google.colab.kernel.accessAllowed ? 'block' : 'none';\n",
              "\n",
              "      async function convertToInteractive(key) {\n",
              "        const element = document.querySelector('#df-9e5cc445-7168-490d-8e19-286501c81bdb');\n",
              "        const dataTable =\n",
              "          await google.colab.kernel.invokeFunction('convertToInteractive',\n",
              "                                                    [key], {});\n",
              "        if (!dataTable) return;\n",
              "\n",
              "        const docLinkHtml = 'Like what you see? Visit the ' +\n",
              "          '<a target=\"_blank\" href=https://colab.research.google.com/notebooks/data_table.ipynb>data table notebook</a>'\n",
              "          + ' to learn more about interactive tables.';\n",
              "        element.innerHTML = '';\n",
              "        dataTable['output_type'] = 'display_data';\n",
              "        await google.colab.output.renderOutput(dataTable, element);\n",
              "        const docLink = document.createElement('div');\n",
              "        docLink.innerHTML = docLinkHtml;\n",
              "        element.appendChild(docLink);\n",
              "      }\n",
              "    </script>\n",
              "  </div>\n",
              "\n",
              "\n",
              "    <div id=\"df-6827df97-55d2-4d7e-bd5f-034fc61e3b17\">\n",
              "      <button class=\"colab-df-quickchart\" onclick=\"quickchart('df-6827df97-55d2-4d7e-bd5f-034fc61e3b17')\"\n",
              "                title=\"Suggest charts\"\n",
              "                style=\"display:none;\">\n",
              "\n",
              "<svg xmlns=\"http://www.w3.org/2000/svg\" height=\"24px\"viewBox=\"0 0 24 24\"\n",
              "     width=\"24px\">\n",
              "    <g>\n",
              "        <path d=\"M19 3H5c-1.1 0-2 .9-2 2v14c0 1.1.9 2 2 2h14c1.1 0 2-.9 2-2V5c0-1.1-.9-2-2-2zM9 17H7v-7h2v7zm4 0h-2V7h2v10zm4 0h-2v-4h2v4z\"/>\n",
              "    </g>\n",
              "</svg>\n",
              "      </button>\n",
              "\n",
              "<style>\n",
              "  .colab-df-quickchart {\n",
              "      --bg-color: #E8F0FE;\n",
              "      --fill-color: #1967D2;\n",
              "      --hover-bg-color: #E2EBFA;\n",
              "      --hover-fill-color: #174EA6;\n",
              "      --disabled-fill-color: #AAA;\n",
              "      --disabled-bg-color: #DDD;\n",
              "  }\n",
              "\n",
              "  [theme=dark] .colab-df-quickchart {\n",
              "      --bg-color: #3B4455;\n",
              "      --fill-color: #D2E3FC;\n",
              "      --hover-bg-color: #434B5C;\n",
              "      --hover-fill-color: #FFFFFF;\n",
              "      --disabled-bg-color: #3B4455;\n",
              "      --disabled-fill-color: #666;\n",
              "  }\n",
              "\n",
              "  .colab-df-quickchart {\n",
              "    background-color: var(--bg-color);\n",
              "    border: none;\n",
              "    border-radius: 50%;\n",
              "    cursor: pointer;\n",
              "    display: none;\n",
              "    fill: var(--fill-color);\n",
              "    height: 32px;\n",
              "    padding: 0;\n",
              "    width: 32px;\n",
              "  }\n",
              "\n",
              "  .colab-df-quickchart:hover {\n",
              "    background-color: var(--hover-bg-color);\n",
              "    box-shadow: 0 1px 2px rgba(60, 64, 67, 0.3), 0 1px 3px 1px rgba(60, 64, 67, 0.15);\n",
              "    fill: var(--button-hover-fill-color);\n",
              "  }\n",
              "\n",
              "  .colab-df-quickchart-complete:disabled,\n",
              "  .colab-df-quickchart-complete:disabled:hover {\n",
              "    background-color: var(--disabled-bg-color);\n",
              "    fill: var(--disabled-fill-color);\n",
              "    box-shadow: none;\n",
              "  }\n",
              "\n",
              "  .colab-df-spinner {\n",
              "    border: 2px solid var(--fill-color);\n",
              "    border-color: transparent;\n",
              "    border-bottom-color: var(--fill-color);\n",
              "    animation:\n",
              "      spin 1s steps(1) infinite;\n",
              "  }\n",
              "\n",
              "  @keyframes spin {\n",
              "    0% {\n",
              "      border-color: transparent;\n",
              "      border-bottom-color: var(--fill-color);\n",
              "      border-left-color: var(--fill-color);\n",
              "    }\n",
              "    20% {\n",
              "      border-color: transparent;\n",
              "      border-left-color: var(--fill-color);\n",
              "      border-top-color: var(--fill-color);\n",
              "    }\n",
              "    30% {\n",
              "      border-color: transparent;\n",
              "      border-left-color: var(--fill-color);\n",
              "      border-top-color: var(--fill-color);\n",
              "      border-right-color: var(--fill-color);\n",
              "    }\n",
              "    40% {\n",
              "      border-color: transparent;\n",
              "      border-right-color: var(--fill-color);\n",
              "      border-top-color: var(--fill-color);\n",
              "    }\n",
              "    60% {\n",
              "      border-color: transparent;\n",
              "      border-right-color: var(--fill-color);\n",
              "    }\n",
              "    80% {\n",
              "      border-color: transparent;\n",
              "      border-right-color: var(--fill-color);\n",
              "      border-bottom-color: var(--fill-color);\n",
              "    }\n",
              "    90% {\n",
              "      border-color: transparent;\n",
              "      border-bottom-color: var(--fill-color);\n",
              "    }\n",
              "  }\n",
              "</style>\n",
              "\n",
              "      <script>\n",
              "        async function quickchart(key) {\n",
              "          const quickchartButtonEl =\n",
              "            document.querySelector('#' + key + ' button');\n",
              "          quickchartButtonEl.disabled = true;  // To prevent multiple clicks.\n",
              "          quickchartButtonEl.classList.add('colab-df-spinner');\n",
              "          try {\n",
              "            const charts = await google.colab.kernel.invokeFunction(\n",
              "                'suggestCharts', [key], {});\n",
              "          } catch (error) {\n",
              "            console.error('Error during call to suggestCharts:', error);\n",
              "          }\n",
              "          quickchartButtonEl.classList.remove('colab-df-spinner');\n",
              "          quickchartButtonEl.classList.add('colab-df-quickchart-complete');\n",
              "        }\n",
              "        (() => {\n",
              "          let quickchartButtonEl =\n",
              "            document.querySelector('#df-6827df97-55d2-4d7e-bd5f-034fc61e3b17 button');\n",
              "          quickchartButtonEl.style.display =\n",
              "            google.colab.kernel.accessAllowed ? 'block' : 'none';\n",
              "        })();\n",
              "      </script>\n",
              "    </div>\n",
              "\n",
              "    </div>\n",
              "  </div>\n"
            ],
            "application/vnd.google.colaboratory.intrinsic+json": {
              "type": "dataframe",
              "summary": "{\n  \"name\": \"display(user_df\",\n  \"rows\": 5,\n  \"fields\": [\n    {\n      \"column\": \"id\",\n      \"properties\": {\n        \"dtype\": \"number\",\n        \"std\": 655640246363396480,\n        \"min\": 36741729,\n        \"max\": 1266703520205549568,\n        \"num_unique_values\": 5,\n        \"samples\": [\n          2664730894,\n          36741729,\n          1266703520205549568\n        ],\n        \"semantic_type\": \"\",\n        \"description\": \"\"\n      }\n    },\n    {\n      \"column\": \"name\",\n      \"properties\": {\n        \"dtype\": \"string\",\n        \"num_unique_values\": 5,\n        \"samples\": [\n          \"olawale \\ud83d\\udca8\",\n          \"Matthew Stubblefield\",\n          \"panagiota_.b\"\n        ],\n        \"semantic_type\": \"\",\n        \"description\": \"\"\n      }\n    },\n    {\n      \"column\": \"username\",\n      \"properties\": {\n        \"dtype\": \"string\",\n        \"num_unique_values\": 5,\n        \"samples\": [\n          \"wale_io\",\n          \"Matthew_Brody\",\n          \"b_panagiota\"\n        ],\n        \"semantic_type\": \"\",\n        \"description\": \"\"\n      }\n    },\n    {\n      \"column\": \"description\",\n      \"properties\": {\n        \"dtype\": \"string\",\n        \"num_unique_values\": 5,\n        \"samples\": [\n          \"creative _\",\n          \"Father / SWT Alumnus / Longhorn Fan\",\n          \"\\ud83d\\udc7d\"\n        ],\n        \"semantic_type\": \"\",\n        \"description\": \"\"\n      }\n    },\n    {\n      \"column\": \"location\",\n      \"properties\": {\n        \"dtype\": \"string\",\n        \"num_unique_values\": 4,\n        \"samples\": [\n          \"\\ud83c\\udf88\",\n          \"United States\",\n          \"Cambridge, MA\"\n        ],\n        \"semantic_type\": \"\",\n        \"description\": \"\"\n      }\n    },\n    {\n      \"column\": \"followers_count\",\n      \"properties\": {\n        \"dtype\": \"number\",\n        \"std\": 3194,\n        \"min\": 3,\n        \"max\": 7316,\n        \"num_unique_values\": 5,\n        \"samples\": [\n          123,\n          240,\n          3\n        ],\n        \"semantic_type\": \"\",\n        \"description\": \"\"\n      }\n    },\n    {\n      \"column\": \"following_count\",\n      \"properties\": {\n        \"dtype\": \"number\",\n        \"std\": 404,\n        \"min\": 62,\n        \"max\": 1090,\n        \"num_unique_values\": 5,\n        \"samples\": [\n          1090,\n          297,\n          62\n        ],\n        \"semantic_type\": \"\",\n        \"description\": \"\"\n      }\n    },\n    {\n      \"column\": \"tweet_count\",\n      \"properties\": {\n        \"dtype\": \"number\",\n        \"std\": 1642,\n        \"min\": 66,\n        \"max\": 3713,\n        \"num_unique_values\": 5,\n        \"samples\": [\n          1823,\n          3713,\n          66\n        ],\n        \"semantic_type\": \"\",\n        \"description\": \"\"\n      }\n    },\n    {\n      \"column\": \"listed_count\",\n      \"properties\": {\n        \"dtype\": \"number\",\n        \"std\": 30,\n        \"min\": 0,\n        \"max\": 69,\n        \"num_unique_values\": 4,\n        \"samples\": [\n          0,\n          8,\n          69\n        ],\n        \"semantic_type\": \"\",\n        \"description\": \"\"\n      }\n    },\n    {\n      \"column\": \"created_at\",\n      \"properties\": {\n        \"dtype\": \"object\",\n        \"num_unique_values\": 5,\n        \"samples\": [\n          \"2014-07-02 17:56:46+00:00\",\n          \"2009-04-30 19:01:42+00:00\",\n          \"2020-05-30 12:10:45+00:00\"\n        ],\n        \"semantic_type\": \"\",\n        \"description\": \"\"\n      }\n    },\n    {\n      \"column\": \"profile_image_url\",\n      \"properties\": {\n        \"dtype\": \"string\",\n        \"num_unique_values\": 5,\n        \"samples\": [\n          \"https://pbs.twimg.com/profile_images/1478376381717401605/k4aboywe_normal.png\",\n          \"https://pbs.twimg.com/profile_images/1458084621351112704/6S-ZgwIj_normal.jpg\",\n          \"https://pbs.twimg.com/profile_images/1426086065165766662/KkzmeSXG_normal.jpg\"\n        ],\n        \"semantic_type\": \"\",\n        \"description\": \"\"\n      }\n    },\n    {\n      \"column\": \"url\",\n      \"properties\": {\n        \"dtype\": \"category\",\n        \"num_unique_values\": 2,\n        \"samples\": [\n          \"\",\n          \"https://t.co/BoMip9FF17\"\n        ],\n        \"semantic_type\": \"\",\n        \"description\": \"\"\n      }\n    },\n    {\n      \"column\": \"verified\",\n      \"properties\": {\n        \"dtype\": \"boolean\",\n        \"num_unique_values\": 1,\n        \"samples\": [\n          false\n        ],\n        \"semantic_type\": \"\",\n        \"description\": \"\"\n      }\n    },\n    {\n      \"column\": \"follower_following_ratio\",\n      \"properties\": {\n        \"dtype\": \"number\",\n        \"std\": 14.975065572378192,\n        \"min\": 0.047619047619047616,\n        \"max\": 33.870370370370374,\n        \"num_unique_values\": 5,\n        \"samples\": [\n          0.11274060494958753\n        ],\n        \"semantic_type\": \"\",\n        \"description\": \"\"\n      }\n    },\n    {\n      \"column\": \"log_followers\",\n      \"properties\": {\n        \"dtype\": \"number\",\n        \"std\": 2.685174115244436,\n        \"min\": 1.3862943611198906,\n        \"max\": 8.89795568688403,\n        \"num_unique_values\": 5,\n        \"samples\": [\n          4.820281565605037\n        ],\n        \"semantic_type\": \"\",\n        \"description\": \"\"\n      }\n    },\n    {\n      \"column\": \"log_following\",\n      \"properties\": {\n        \"dtype\": \"number\",\n        \"std\": 1.0770304267153943,\n        \"min\": 4.143134726391533,\n        \"max\": 6.994849985833071,\n        \"num_unique_values\": 5,\n        \"samples\": [\n          6.994849985833071\n        ],\n        \"semantic_type\": \"\",\n        \"description\": \"\"\n      }\n    },\n    {\n      \"column\": \"log_tweet_count\",\n      \"properties\": {\n        \"dtype\": \"number\",\n        \"std\": 1.767050161348574,\n        \"min\": 4.204692619390966,\n        \"max\": 8.219864741912652,\n        \"num_unique_values\": 5,\n        \"samples\": [\n          7.508787170634276\n        ],\n        \"semantic_type\": \"\",\n        \"description\": \"\"\n      }\n    }\n  ]\n}"
            }
          },
          "metadata": {}
        }
      ],
      "source": [
        "# Display user DataFrame\n",
        "display(user_df.head())"
      ]
    },
    {
      "cell_type": "code",
      "execution_count": null,
      "metadata": {
        "id": "cyUopvfCOdCH",
        "colab": {
          "base_uri": "https://localhost:8080/"
        },
        "outputId": "7b1e1f24-c405-4429-cdf2-474050f0f218"
      },
      "outputs": [
        {
          "output_type": "stream",
          "name": "stdout",
          "text": [
            "Sample user_df IDs: [1217628182611927040, 2664730894, 1266703520205549568, 1089159225148882949, 36741729]\n",
            "Sample label_dict keys: [1217628182611927040, 2664730894, 1266703520205549568, 1089159225148882949, 36741729]\n",
            "Sample split_dict keys: [2664730894, 1089159225148882949, 36741729, 1679822588, 1519144464]\n",
            "Sample user_tweets keys: [2165095428, 3009562656, 352586927, 385203914, 1384088969860714498]\n"
          ]
        }
      ],
      "source": [
        "print(\"Sample user_df IDs:\", user_df[\"id\"].head().tolist())\n",
        "print(\"Sample label_dict keys:\", list(label_dict.keys())[:5])\n",
        "print(\"Sample split_dict keys:\", list(split_dict.keys())[:5])\n",
        "print(\"Sample user_tweets keys:\", list(user_tweets.keys())[:5])"
      ]
    },
    {
      "cell_type": "code",
      "execution_count": null,
      "metadata": {
        "id": "Coex9xkPSEGB",
        "colab": {
          "base_uri": "https://localhost:8080/"
        },
        "outputId": "666c9d18-8eb5-4c05-eed7-9c44712d2ffe"
      },
      "outputs": [
        {
          "output_type": "stream",
          "name": "stdout",
          "text": [
            "1217628182611927040: human\n",
            "2664730894: human\n",
            "1266703520205549568: human\n",
            "1089159225148882949: human\n",
            "36741729: bot\n"
          ]
        }
      ],
      "source": [
        "# Show first 5 items from label_dict\n",
        "for i, (k, v) in enumerate(label_dict.items()):\n",
        "    print(f\"{k}: {v}\")\n",
        "    if i == 4: break"
      ]
    },
    {
      "cell_type": "code",
      "execution_count": null,
      "metadata": {
        "id": "neh3LRfgSD-v",
        "colab": {
          "base_uri": "https://localhost:8080/"
        },
        "outputId": "09260858-7002-44a1-b6d6-a4d7148393a8"
      },
      "outputs": [
        {
          "output_type": "stream",
          "name": "stdout",
          "text": [
            "2664730894: train\n",
            "1089159225148882949: train\n",
            "36741729: train\n",
            "1679822588: train\n",
            "1519144464: train\n"
          ]
        }
      ],
      "source": [
        "# Show first 5 items from split_dict\n",
        "for i, (k, v) in enumerate(split_dict.items()):\n",
        "    print(f\"{k}: {v}\")\n",
        "    if i == 4: break"
      ]
    },
    {
      "cell_type": "code",
      "execution_count": null,
      "metadata": {
        "id": "HAlqCkSGSD4y",
        "colab": {
          "base_uri": "https://localhost:8080/"
        },
        "outputId": "2cd6ee50-9d6a-40e0-fbb7-b6fb88e6ba6b"
      },
      "outputs": [
        {
          "output_type": "stream",
          "name": "stdout",
          "text": [
            "User ID: 2165095428\n",
            "  - With the help of the #RightEye, Dr. Renaud of EagleEye Performance Vision help a young boy overcome his #vision issues that were holding him back in #school, #athletics and basic life activities. See why he was selected as a 2020 Impact Award Finalist: https://t.co/DDCAedtyfZ. https://t.co/nGgV10U3L3\n",
            "  - RT @iptkids: @righteyeinsight @whenkidsfly We love our #righteye! ❤️\n",
            "  - RT @seco_intl: Starring @righteyeinsight!\n",
            "  - RT @brainline: Here are 9 1/2 facts to share with others. What other facts have you learned that could make this a list of 10 (or more)? #T…\n",
            "  - RT @CDCInjury: #Suicide &amp; falls have surpassed motor vehicle crashes as the leading categories of TBI-related death in the US. We can do mo…\n",
            "  - RT @brainenergyteam: Brain injury fact: brain injuries do not discriminate. In this piece, writer and stroke survivor Isaac Peterson discus…\n",
            "  - RT @cattonline: \"Immediate recognition is really the key\" —\n",
            "@sbwellr talks #concussion education in #BC sport &amp; \n",
            "@BCHockey_Source's decisio…\n",
            "  - Computer screen time is damaging eyes — especially for children. It's important to have your eyes checked every year. https://t.co/zGGErbhXlC #righteye #binocularvision #bvd #optometrists #eyecareprovider #binocularvisiondisorders\n",
            "  - New published research: Oculomotor Behavior Predict Professional Cricket Batting and Bowling Performance. This project is to determine if a series of oculomotor measures can predict batting and bowling performance in professional cricket players. https://t.co/wFXFAWB0CK https://t.co/BuIQOGxFSf\n",
            "  - RT @Revathy__Mani: What a wonderful achievement to end 2021 🤩So excited to see a #TBI paper published with our Industry Partner in Brain In…\n",
            "User ID: 3009562656\n",
            "  - RT @VANTEC_Networks: General Fusion relocating HQ to YVR as it plans to quadruple workforce - Technology | Business in Vancouver https://t.…\n",
            "  - Fantastic! 👏 Congrats @riipen on the 100K learner experiences milestone! 🥳 https://t.co/Akzu1kqSLf\n",
            "  - RT @SmallBusinessBC: 😃 Welcome to Small Business Week 2021. All entrepreneurs in BC are invited to a week full of activities:\n",
            "\n",
            "💻 Free busin…\n",
            "  - .@MyTZOA Becomes HAVEN to Breathe New Life into HVAC Sector Enabling Any System to Deliver Clean Air On-Demand ⁦⁩  https://t.co/7Qu8TUUoIG\n",
            "  - Looking fwd to @CubicFarms’ AMPLIFIED Virtual event on Oct 21st! It’s so cool to see growing companies in our ecosystem discussing important topics like #foodsecurity and #climatechange - we’re excited for #localchainagtech to enter the market!\n",
            "RSVP 👉 https://t.co/eFlyZklnbY\n",
            "  - RT @techcouver: B.C. Government Invests To Expand The Canadian Tech Talent Accelerator https://t.co/CJKa1gG38E https://t.co/l46YIBU35j\n",
            "  - The @HoltXchange's Fintech Show is back on Nov. 16th, 2021 7 PM EST at the Rialto Theatre, featuring their latest portfolio additions.\n",
            "\n",
            "Come watch the Holt 2021 Companies pitch their progress to date and share their next key milestones. \n",
            "https://t.co/sQTn2kYolt https://t.co/6QyCokeO35\n",
            "  - RT @VanEconomic: Are you a circular business or entrepreneur seeking funding? In partnership with @Vancity &amp; @SRRInitiative, we're hosting…\n",
            "  - RT @VanEconomic: Attention, tech startups with a climate solution! Angels for Climate Solutions will help you navigate the capital-raising…\n",
            "  - To help create a more diverse tech sector, fill talent shortages &amp; help BC businesses grow @innovate_bc’s Innovator Skills Initiative program now has grants up to $10,000 per employee to support hiring for tech roles.\n",
            "\n",
            "Find out how &gt;&gt;&gt; https://t.co/NuEgtFOKwv\n",
            "User ID: 352586927\n",
            "  - RT @NetflixFilm: How can you save the future without facing your past? Get ready for a time travel adventure when THE ADAM PROJECT hits Net…\n",
            "  - @NetflixFilm We're so excited!\n",
            "  - RT @VancityReynolds: To say I had the time of my life making this film would be an understatement. And a misleading reference to Dirty Danc…\n",
            "  - @VancityReynolds @netflix 🙌\n",
            "  - @ilyryanreynolds We can't either!\n",
            "  - RT @abexeffects: Thank you for such a wonderful birthday treat - an amazing intimate screening of \"The Adam Project\" at @Metrograph with @S…\n",
            "  - RT @MrControversy83: As @CinemaBlend's resident time traveler, I'm honored that @netflixfilm extended an invite to take #TheAdamProject for…\n",
            "  - RT @ShawnJPG: So excited to be sitting down and watching #TheAdamProject! Thank you to @NetflixFilm for the invite! \n",
            "\n",
            "Always excited for a…\n",
            "  - @NetflixFilm 👀\n",
            "  - 👀 https://t.co/RvZRlYQjqa\n"
          ]
        }
      ],
      "source": [
        "# Show first 3 users and their tweets\n",
        "for i, (uid, tweets) in enumerate(user_tweets.items()):\n",
        "    print(f\"User ID: {uid}\")\n",
        "    for t in tweets:\n",
        "        print(\"  -\", t)\n",
        "    if i == 2: break"
      ]
    },
    {
      "cell_type": "code",
      "execution_count": null,
      "metadata": {
        "id": "y3xfqfRZAC9x",
        "colab": {
          "base_uri": "https://localhost:8080/"
        },
        "outputId": "18ed68f5-b2e4-4e58-f082-4f871370f2a2"
      },
      "outputs": [
        {
          "output_type": "stream",
          "name": "stdout",
          "text": [
            "Tweet 1:\n",
            "  author_id: 1304855289208819713 type: <class 'int'>\n",
            "  text: @phaseknight_ Although I didn't base this sketch on you specifically, I really think it vibes with y\n",
            "Tweet 2:\n",
            "  author_id: 1304855289208819713 type: <class 'int'>\n",
            "  text: I mean, doesn't his beautiful face just scream Trinket?! 🥺 @matthewmercer @CriticalRole @TitmouseInc\n",
            "Tweet 3:\n",
            "  author_id: 1304855289208819713 type: <class 'int'>\n",
            "  text: @Cobalt_han I'm British, so that used to be me too! Now I live in Alaska! 🐻\n",
            "Tweet 4:\n",
            "  author_id: 1304855289208819713 type: <class 'int'>\n",
            "  text: RT @itsginnydi: the only thing better than the Legend of Vox Machina will be the Legend of Vox Machi\n",
            "Tweet 5:\n",
            "  author_id: 1304855289208819713 type: <class 'int'>\n",
            "  text: Lucky and his sister, among other bears, were orphaned as cubs by human behavior. Due to the lack of\n"
          ]
        }
      ],
      "source": [
        "# Sample Tweets\n",
        "\n",
        "tweet_path = \"/content/drive/MyDrive/TwiBot-22/TwiBot-22/tweet_0.json\"\n",
        "\n",
        "with open(tweet_path, 'r') as f:\n",
        "    tweets = ijson.items(f, 'item')  # stream each item in the top-level list\n",
        "\n",
        "    for i, tweet in enumerate(tweets):\n",
        "        print(f\"Tweet {i + 1}:\")\n",
        "        print(\"  author_id:\", tweet.get(\"author_id\"), \"type:\", type(tweet.get(\"author_id\")))\n",
        "        print(\"  text:\", tweet.get(\"text\", \"\")[:100])  # preview first 100 chars\n",
        "        if i >= 4:\n",
        "            break  # only check first 5 tweets\n"
      ]
    },
    {
      "cell_type": "markdown",
      "metadata": {
        "id": "p4B3KRsQQtuA"
      },
      "source": [
        "**Data Analysis:**"
      ]
    },
    {
      "cell_type": "code",
      "execution_count": null,
      "metadata": {
        "id": "CJ62Dnz3U5yO",
        "colab": {
          "base_uri": "https://localhost:8080/"
        },
        "outputId": "8c735655-80f6-4cb2-929b-591ca56cec94"
      },
      "outputs": [
        {
          "output_type": "stream",
          "name": "stdout",
          "text": [
            "🧾 Basic Info:\n",
            "Total users in user_df: 1000000\n",
            "Labeled users in label_dict: 1000000\n",
            "Users with tweets: 933872\n",
            "Total tweets: 9062601\n"
          ]
        }
      ],
      "source": [
        "# Basic statistics\n",
        "print(\"🧾 Basic Info:\")\n",
        "print(f\"Total users in user_df: {len(user_df)}\")  # Number of users loaded from user_df\n",
        "print(f\"Labeled users in label_dict: {len(label_dict)}\")  # Number of labeled users\n",
        "print(f\"Users with tweets: {len(user_tweets)}\")  # Number of users that have tweets\n",
        "print(f\"Total tweets: {sum(len(tweets) for tweets in user_tweets.values())}\")  # Total number of tweets for those users\n"
      ]
    },
    {
      "cell_type": "code",
      "execution_count": null,
      "metadata": {
        "id": "7EUhU3SRU5hm",
        "colab": {
          "base_uri": "https://localhost:8080/",
          "height": 481
        },
        "outputId": "90445b16-db97-4824-9e66-14e1d7e2fcf4"
      },
      "outputs": [
        {
          "output_type": "stream",
          "name": "stdout",
          "text": [
            "User counts by split:\n",
            "train    700000\n",
            "val      200000\n",
            "test     100000\n",
            "Name: count, dtype: int64\n"
          ]
        },
        {
          "output_type": "display_data",
          "data": {
            "text/plain": [
              "<Figure size 600x400 with 1 Axes>"
            ],
            "image/png": "[encoded data removed]"
          },
          "metadata": {}
        }
      ],
      "source": [
        "# Split distribution\n",
        "# Convert the values from split_dict (which maps user IDs to split type) into a pandas Series\n",
        "\n",
        "split_series = pd.Series(list(split_dict.values()))\n",
        "\n",
        "# Count the number of users in each split (train, val, test)\n",
        "split_counts = split_series.value_counts()\n",
        "\n",
        "print(\"User counts by split:\")\n",
        "print(split_counts)\n",
        "\n",
        "# Set a clean Seaborn theme for the plot with larger fonts\n",
        "sns.set_theme(style=\"whitegrid\", font_scale=1.2)\n",
        "\n",
        "# Create a matplotlib figure and axis\n",
        "fig, ax = plt.subplots(figsize=(6, 4))\n",
        "\n",
        "sns.barplot(\n",
        "    x=split_counts.index,\n",
        "    y=split_counts.values,\n",
        "    color=\"steelblue\",\n",
        "    ax=ax\n",
        ")\n",
        "\n",
        "for bar in ax.patches:\n",
        "    height = bar.get_height()\n",
        "    ax.annotate(\n",
        "        f\"{int(height)}\",\n",
        "        xy=(bar.get_x() + bar.get_width() / 2, height),\n",
        "        xytext=(0, 5),\n",
        "        textcoords=\"offset points\",\n",
        "        ha=\"center\",\n",
        "        va=\"bottom\"\n",
        "    )\n",
        "\n",
        "ax.set_title(\"User Distribution by Dataset Split\", pad=15)\n",
        "ax.set_xlabel(\"Split Type\")\n",
        "ax.set_ylabel(\"Number of Users\")\n",
        "\n",
        "plt.tight_layout()\n",
        "plt.show()\n"
      ]
    },
    {
      "cell_type": "code",
      "execution_count": null,
      "metadata": {
        "id": "4JzQdxdNU5cK",
        "colab": {
          "base_uri": "https://localhost:8080/",
          "height": 463
        },
        "outputId": "740149cf-414b-4c9e-f790-177843a076ca"
      },
      "outputs": [
        {
          "output_type": "stream",
          "name": "stdout",
          "text": [
            "Label counts:\n",
            "human    860057\n",
            "bot      139943\n",
            "Name: count, dtype: int64\n"
          ]
        },
        {
          "output_type": "display_data",
          "data": {
            "text/plain": [
              "<Figure size 600x400 with 1 Axes>"
            ],
            "image/png": "[encoded data removed]"
          },
          "metadata": {}
        }
      ],
      "source": [
        "# Assuming label_dict = {'user1': 'bot', 'user2': 'human', ...}\n",
        "# Convert the label dictionary to a pandas Series where index = user ID, value = label\n",
        "\n",
        "label_series = pd.Series(label_dict)\n",
        "label_counts = label_series.value_counts()\n",
        "\n",
        "# Print label counts\n",
        "print(\"Label counts:\")\n",
        "print(label_counts)\n",
        "\n",
        "# Set style\n",
        "sns.set_theme(style=\"whitegrid\", font_scale=1.2)\n",
        "\n",
        "fig, ax = plt.subplots(figsize=(6,4))\n",
        "\n",
        "# Barplot with future-proof style\n",
        "sns.barplot(\n",
        "    x=label_counts.index,\n",
        "    y=label_counts.values,\n",
        "    color=\"mediumseagreen\",  # Use a clear color (no palette warning)\n",
        "    ax=ax\n",
        ")\n",
        "\n",
        "# Annotate bars\n",
        "for bar in ax.patches:\n",
        "    height = bar.get_height()\n",
        "    ax.annotate(\n",
        "        f\"{int(height)}\",\n",
        "        xy=(bar.get_x() + bar.get_width() / 2, height),\n",
        "        xytext=(0, 5),\n",
        "        textcoords=\"offset points\",\n",
        "        ha=\"center\",\n",
        "        va=\"bottom\"\n",
        "    )\n",
        "\n",
        "# Labels and title\n",
        "ax.set_title(\"Label Distribution: Bot vs Human\", pad=15)\n",
        "ax.set_xlabel(\"Label\")\n",
        "ax.set_ylabel(\"Number of Users\")\n",
        "\n",
        "# Tight layout\n",
        "plt.tight_layout()\n",
        "plt.show()\n"
      ]
    },
    {
      "cell_type": "code",
      "execution_count": null,
      "metadata": {
        "id": "nPfhaI7SU5af",
        "colab": {
          "base_uri": "https://localhost:8080/",
          "height": 411
        },
        "outputId": "1e283d6e-bc2b-4eb3-aac9-14021b84ec2f"
      },
      "outputs": [
        {
          "output_type": "stream",
          "name": "stdout",
          "text": [
            "Tweet count per user — Min: 1, Max: 10, Mean: 9.70\n"
          ]
        },
        {
          "output_type": "display_data",
          "data": {
            "text/plain": [
              "<Figure size 600x400 with 1 Axes>"
            ],
            "image/png": "[encoded data removed]"
          },
          "metadata": {}
        }
      ],
      "source": [
        "# Tweet count per user\n",
        "# Calculate the number of tweets per user by measuring the length of each user's tweet list\n",
        "tweet_lengths = [len(tweets) for tweets in user_tweets.values()]\n",
        "\n",
        "# Print summary statistics\n",
        "print(f\"Tweet count per user — Min: {min(tweet_lengths)}, Max: {max(tweet_lengths)}, Mean: {sum(tweet_lengths)/len(tweet_lengths):.2f}\")\n",
        "\n",
        "# Set style\n",
        "sns.set_theme(style=\"whitegrid\", font_scale=1.2)\n",
        "\n",
        "fig, ax = plt.subplots(figsize=(6, 4))\n",
        "\n",
        "# Histogram with KDE\n",
        "sns.histplot(\n",
        "    tweet_lengths,\n",
        "    bins=30,\n",
        "    kde=True,\n",
        "    color=\"steelblue\",\n",
        "    edgecolor=\"white\",\n",
        "    ax=ax\n",
        ")\n",
        "\n",
        "# Labels and title\n",
        "ax.set_title(\"Distribution of Tweet Counts per User\", pad=15)\n",
        "ax.set_xlabel(\"Tweet Count\")\n",
        "ax.set_ylabel(\"Number of Users\")\n",
        "\n",
        "# Tweak layout\n",
        "plt.tight_layout()\n",
        "plt.show()\n"
      ]
    },
    {
      "cell_type": "code",
      "execution_count": null,
      "metadata": {
        "id": "hl5f77L4MfcS",
        "colab": {
          "base_uri": "https://localhost:8080/"
        },
        "outputId": "cec5c9ef-808a-44a9-ea33-9726b55eada5"
      },
      "outputs": [
        {
          "output_type": "stream",
          "name": "stdout",
          "text": [
            "✅ Loaded tweets for 933872 users.\n"
          ]
        }
      ],
      "source": [
        "print(f\"✅ Loaded tweets for {len(user_tweets)} users.\")\n"
      ]
    },
    {
      "cell_type": "code",
      "execution_count": null,
      "metadata": {
        "id": "qsYUOMYyVVuA",
        "colab": {
          "base_uri": "https://localhost:8080/"
        },
        "outputId": "480d9fd0-36d1-4347-cec6-367a9475d167"
      },
      "outputs": [
        {
          "output_type": "stream",
          "name": "stdout",
          "text": [
            "\n",
            "📌 Summary Statistics:\n",
            "Average tweets/user: 9.70\n",
            "Max tweets for one user: 10\n",
            "Min tweets for one user: 1\n"
          ]
        }
      ],
      "source": [
        "# --- Print summary statistics ---\n",
        "print(\"\\n📌 Summary Statistics:\")\n",
        "print(f\"Average tweets/user: {sum(tweet_lengths)/len(tweet_lengths):.2f}\")\n",
        "print(f\"Max tweets for one user: {max(tweet_lengths)}\")\n",
        "print(f\"Min tweets for one user: {min(tweet_lengths)}\")"
      ]
    },
    {
      "cell_type": "markdown",
      "source": [
        "**Data Quality Check:**"
      ],
      "metadata": {
        "id": "8WAGQ6fu5C1c"
      }
    },
    {
      "cell_type": "code",
      "source": [
        "# 📊 Data Quality Check — Observation Only (No Filtering Yet)\n",
        "\n",
        "print(\"\\n📊 Data Quality Checks\")\n",
        "\n",
        "# --- User Profile Checks ---\n",
        "print(\"\\n✅ User Profile Quality:\")\n",
        "print(\"Missing 'description':\", user_df['description'].isna().sum())\n",
        "print(\"Missing 'username':\", user_df['username'].isna().sum())\n",
        "print(\"Users with empty 'description':\", (user_df['description'].str.strip() == '').sum())\n",
        "print(\"Users with zero followers:\", (user_df['followers_count'] == 0).sum())\n",
        "print(\"Users with zero following:\", (user_df['following_count'] == 0).sum())\n",
        "print(\"Users with zero tweets:\", (user_df['tweet_count'] == 0).sum())\n",
        "\n",
        "# --- Tweet Quality Checks ---\n",
        "all_tweets = [tweet for tweets in user_tweets.values() for tweet in tweets]\n",
        "print(\"\\n✅ Tweet Quality:\")\n",
        "print(\"Total tweets:\", len(all_tweets))\n",
        "print(\"Empty tweets:\", sum(1 for t in all_tweets if not t.strip()))\n",
        "print(\"Average tweet length:\", np.mean([len(t) for t in all_tweets]))\n",
        "print(\"Max tweet length:\", max(len(t) for t in all_tweets))\n",
        "print(\"Duplicate tweets:\", len(all_tweets) - len(set(all_tweets)))\n",
        "\n",
        "# --- ID Cross Check ---\n",
        "print(\"\\n✅ ID Sanity Checks:\")\n",
        "print(\"user_df entries:\", len(user_df))\n",
        "print(\"label_dict entries:\", len(label_dict))\n",
        "print(\"user_tweets users:\", len(user_tweets))\n",
        "print(\"Common users (intersection):\", len(set(user_df['id']) & set(label_dict.keys()) & set(user_tweets.keys())))\n"
      ],
      "metadata": {
        "colab": {
          "base_uri": "https://localhost:8080/"
        },
        "id": "-XcIKJni5HJG",
        "outputId": "e52b8a68-a149-429a-f7fe-2cbd9c97ac0a"
      },
      "execution_count": null,
      "outputs": [
        {
          "output_type": "stream",
          "name": "stdout",
          "text": [
            "\n",
            "📊 Data Quality Checks\n",
            "\n",
            "✅ User Profile Quality:\n",
            "Missing 'description': 0\n",
            "Missing 'username': 0\n",
            "Users with empty 'description': 124231\n",
            "Users with zero followers: 17237\n",
            "Users with zero following: 10647\n",
            "Users with zero tweets: 28308\n",
            "\n",
            "✅ Tweet Quality:\n",
            "Total tweets: 9062601\n",
            "Empty tweets: 0\n",
            "Average tweet length: 129.37218310725586\n",
            "Max tweet length: 1040\n",
            "Duplicate tweets: 641794\n",
            "\n",
            "✅ ID Sanity Checks:\n",
            "user_df entries: 1000000\n",
            "label_dict entries: 1000000\n",
            "user_tweets users: 933872\n",
            "Common users (intersection): 933872\n"
          ]
        }
      ]
    },
    {
      "cell_type": "code",
      "source": [
        "# Language Detection for Descriptions\n",
        "# This block does not modify user_df, nor does it help filter the data. It's just diagnostic to see the distribution of languages.\n",
        "\n",
        "print(\"\\n🌍 Detecting language for ALL user descriptions...\")\n",
        "\n",
        "desc_langs = [] # List to store detected languages for each user description\n",
        "\n",
        "# Iterate through the 'description' column in the user DataFrame\n",
        "# Fill NaNs with empty strings and ensure all entries are strings\n",
        "for desc in user_df['description'].fillna('').astype(str):\n",
        "    try:\n",
        "        # Try to detect the language of the description\n",
        "        lang = detect(desc)\n",
        "        desc_langs.append(lang)\n",
        "    except LangDetectException:\n",
        "        # If detection fails (e.g., very short or empty text), mark as \"unknown\"\n",
        "        desc_langs.append(\"unknown\")\n",
        "\n",
        "# Count how many descriptions are detected in each language\n",
        "desc_counts = Counter(desc_langs)\n",
        "\n",
        "# Print the languages and their corresponding counts in descending order\n",
        "print(\"📝 Description language counts:\")\n",
        "for lang, count in desc_counts.most_common():\n",
        "    print(f\"{lang}: {count}\")\n",
        "\n",
        "#==============================================================================\n",
        "\n",
        "# Language Detection for Tweets\n",
        "# print(\"\\n🌍 Detecting language for ALL tweets...\")\n",
        "\n",
        "# tweet_langs = []\n",
        "# total_tweets = 0\n",
        "\n",
        "# for tweet_list in user_tweets.values():\n",
        "#     for tweet in tweet_list:\n",
        "#         total_tweets += 1\n",
        "#         try:\n",
        "#             lang = detect(tweet)\n",
        "#             tweet_langs.append(lang)\n",
        "#         except LangDetectException:\n",
        "#             tweet_langs.append(\"unknown\")\n",
        "\n",
        "# tweet_counts = Counter(tweet_langs)\n",
        "# print(\"\\n🐦 Tweet language counts:\")\n",
        "# for lang, count in tweet_counts.most_common():\n",
        "#     print(f\"{lang}: {count}\")\n",
        "\n",
        "# print(f\"\\n✅ Total tweets checked: {total_tweets}\")\n"
      ],
      "metadata": {
        "colab": {
          "base_uri": "https://localhost:8080/"
        },
        "id": "K8FkYu0V5MFr",
        "outputId": "3504bd65-6395-4320-bb08-3e6e37888d34"
      },
      "execution_count": null,
      "outputs": [
        {
          "output_type": "stream",
          "name": "stdout",
          "text": [
            "\n",
            "🌍 Detecting language for ALL user descriptions...\n",
            "📝 Description language counts:\n",
            "en: 655950\n",
            "unknown: 135647\n",
            "es: 48250\n",
            "de: 20020\n",
            "fr: 17957\n",
            "fa: 11116\n",
            "ja: 10395\n",
            "ar: 10097\n",
            "it: 9855\n",
            "pt: 9666\n",
            "tr: 6803\n",
            "nl: 6099\n",
            "id: 5881\n",
            "ca: 4499\n",
            "no: 3663\n",
            "da: 3352\n",
            "tl: 3143\n",
            "ro: 3118\n",
            "hi: 3006\n",
            "af: 2985\n",
            "so: 2494\n",
            "ko: 2095\n",
            "cy: 2070\n",
            "et: 2044\n",
            "sv: 1861\n",
            "sw: 1740\n",
            "fi: 1610\n",
            "pl: 1250\n",
            "vi: 1234\n",
            "ru: 1131\n",
            "ur: 974\n",
            "sl: 879\n",
            "hr: 832\n",
            "zh-cn: 809\n",
            "mr: 743\n",
            "sq: 654\n",
            "el: 606\n",
            "ta: 580\n",
            "hu: 514\n",
            "ne: 506\n",
            "th: 497\n",
            "cs: 483\n",
            "lt: 469\n",
            "sk: 420\n",
            "kn: 330\n",
            "he: 270\n",
            "lv: 247\n",
            "mk: 236\n",
            "bn: 232\n",
            "uk: 195\n",
            "bg: 128\n",
            "te: 102\n",
            "zh-tw: 90\n",
            "ml: 66\n",
            "gu: 61\n",
            "pa: 46\n"
          ]
        }
      ]
    },
    {
      "cell_type": "markdown",
      "metadata": {
        "id": "_3ikdi4XbVhs"
      },
      "source": [
        "**Filter Users:**"
      ]
    },
    {
      "cell_type": "code",
      "source": [
        "# 1. Perform language filtering by detecting the language of each user’s profile description\n",
        "# 2. Add the result to the user_df DataFrame\n",
        "# 3. Then filters users to only keep English ones\n",
        "\n",
        "# Filter out users with zero tweets\n",
        "user_df = user_df[user_df[\"tweet_count\"] > 0]\n",
        "\n",
        "# Detect and filter by English descriptions\n",
        "from langdetect import detect, LangDetectException\n",
        "\n",
        "# Define a helper function to detect language with error handling\n",
        "def detect_lang(text):\n",
        "    try:\n",
        "        return detect(text)  # Attempt to detect the language of the input text\n",
        "    except LangDetectException:\n",
        "        return \"unknown\"     # Fallback for empty or undetectable text\n",
        "\n",
        "print(\"🌍 Detecting description language for filtering...\")\n",
        "\n",
        "# 1. Adds a new column \"description_lang\" to user_df, where each entry contains the detected language of the user's profile description\n",
        "# 2. .astype(str) => Ensures all values are treated as strings — even if some are accidentally numeric or another type. This provides uniform input to the language detector.\n",
        "# 3. .apply(detect_lang) => This applies your custom detect_lang() function to each cleaned description.\n",
        "# 4. user_df[\"description_lang\"] = ... => The detected language (e.g., \"en\", \"es\", \"fr\", \"unknown\") is stored in a new column called \"description_lang\".\n",
        "user_df[\"description_lang\"] = user_df[\"description\"].fillna(\"\").astype(str).apply(detect_lang)\n",
        "\n",
        "# ✅ Keep only users with English descriptions\n",
        "user_df = user_df[user_df[\"description_lang\"] == \"en\"]  #Exact filtering step\n",
        "print(f\"Filtered to English descriptions + nonzero tweets: {len(user_df)} users\")\n",
        "\n",
        "# Sync user_tweets and label_dict with filtered user_df => Keep only user IDs that survived the filtering\n",
        "valid_ids = set(user_df[\"id\"])  # Creates a set of user IDs that passed the filters (English descriptions and nonzero tweets).\n",
        "user_tweets = {uid: tweets for uid, tweets in user_tweets.items() if uid in valid_ids}  # Filters the user_tweets dictionary to only keep users that are still in user_df.\n",
        "label_dict = {uid: label for uid, label in label_dict.items() if uid in valid_ids}  # Filter the label_dict, which maps user IDs to their ground-truth labels (\"bot\" or \"human\")."
      ],
      "metadata": {
        "colab": {
          "base_uri": "https://localhost:8080/"
        },
        "id": "zq6x5hqF4Pzn",
        "outputId": "82ff7362-520c-4716-d622-70bc528d7eeb"
      },
      "execution_count": null,
      "outputs": [
        {
          "output_type": "stream",
          "name": "stdout",
          "text": [
            "🌍 Detecting description language for filtering...\n"
          ]
        }
      ]
    },
    {
      "cell_type": "code",
      "execution_count": null,
      "metadata": {
        "id": "OTf5i90wf9_-"
      },
      "outputs": [],
      "source": [
        "# Prepares a balanced and meaningful dataset of Twitter users for training and evaluating a bot detection model.\n",
        "\n",
        "# Loads labels (bot or human).\n",
        "# Filters out users with fewer than 10 tweets (to ensure meaningful content).\n",
        "# Selects all qualified bots, and samples humans whose behavior resembles bots.\n",
        "# Filters all user-related data (user_df, label_dict, user_tweets) to only include these selected users.\n",
        "\n",
        "# Step 1: Load and clean label.csv ---------------------------------------------------------------------------------------------------\n",
        "label_df = pd.read_csv(os.path.join(data_dir, \"label.csv\"))\n",
        "label_df[\"id\"] = label_df[\"id\"].apply(clean_user_id)  # Ensure user IDs are cleaned and match format used elsewhere\n",
        "print(f\"✅ Loaded labels: {len(label_df)} users\")\n",
        "\n",
        "# Step 2: Separate bot and human users  ---------------------------------------------------------------------------------------------------\n",
        "bot_ids = label_df[label_df[\"label\"] == \"bot\"][\"id\"].tolist()      # Get list of bot user IDs\n",
        "human_ids = label_df[label_df[\"label\"] == \"human\"][\"id\"].tolist()  # Get list of human user IDs\n",
        "print(f\"📊 Bots: {len(bot_ids)} | Humans: {len(human_ids)}\")\n",
        "\n",
        "# Step 3: Filter users with ≥10 tweets ---------------------------------------------------------------------------------------------------\n",
        "qualified_bot_ids = [uid for uid in bot_ids if len(user_tweets.get(uid, [])) >= 10]     # Keep only bots with ≥10 tweets\n",
        "qualified_human_ids = [uid for uid in human_ids if len(user_tweets.get(uid, [])) >= 10] # Keep only humans with ≥10 tweets\n",
        "print(f\"✅ Bots with ≥10 tweets: {len(qualified_bot_ids)}\")\n",
        "print(f\"✅ Humans with ≥10 tweets: {len(qualified_human_ids)}\")\n",
        "\n",
        "# Step 4: Sample bots + bot-like humans ---------------------------------------------------------------------------------------------------\n",
        "\n",
        "# Use all qualified bots\n",
        "sampled_bot_ids = qualified_bot_ids  # Take all bots that passed tweet threshold\n",
        "\n",
        "# For the selected bots, retrieve their behavioral features => Then, creates a bot_stats DataFrame with these 3 features for all bots:\n",
        "# log_followers: log-transformed follower count\n",
        "# log_following: log-transformed following count\n",
        "# log_tweet_count: log-transformed tweet count\n",
        "bot_stats = user_df[user_df[\"id\"].isin(sampled_bot_ids)][[\"log_followers\", \"log_following\", \"log_tweet_count\"]]\n",
        "\n",
        "# From all humans with ≥10 tweets, extract those users into human_pool.\n",
        "human_pool = user_df[user_df[\"id\"].isin(qualified_human_ids)]\n",
        "\n",
        "# ************************This is a key idea: instead of using random humans, you use \"bot-like humans\" to make the classification task more realistic and harder.\n",
        "# Filter human_pool to include only those users who Have fewer followers, followings, and tweets than the 95th percentile of the bots:\n",
        "similar_humans = human_pool[\n",
        "    (human_pool[\"log_followers\"] <= bot_stats[\"log_followers\"].quantile(0.95)) &      #If 95% of bots have ≤ 1,000 followers => Only keep humans with ≤ 1,000 followers.\n",
        "    (human_pool[\"log_following\"] <= bot_stats[\"log_following\"].quantile(0.95)) &\n",
        "    (human_pool[\"log_tweet_count\"] <= bot_stats[\"log_tweet_count\"].quantile(0.95))\n",
        "]\n",
        "\n",
        "# Sample an equal number of humans to match the number of bots\n",
        "sampled_human_ids = random.sample(similar_humans[\"id\"].tolist(), len(sampled_bot_ids))\n",
        "\n",
        "# Combine sampled bot and human IDs into one set\n",
        "sampled_ids = set(sampled_bot_ids + sampled_human_ids)\n",
        "print(f\"🎯 Sampled users: {len(sampled_bot_ids)} bots + {len(sampled_human_ids)} human-like users\")\n",
        "\n",
        "# Step 5: Filter all data to sampled_ids ---------------------------------------------------------------------------------------------------\n",
        "\n",
        "# Keep only sampled users in user_df\n",
        "user_df = user_df[user_df[\"id\"].isin(sampled_ids)]\n",
        "print(f\"✅ user_df filtered: {len(user_df)} users\")\n",
        "\n",
        "# Keep only sampled users in label_dict\n",
        "label_dict = {uid: label_dict[uid] for uid in sampled_ids if uid in label_dict}\n",
        "print(f\"✅ label_dict filtered: {len(label_dict)} users\")\n",
        "\n",
        "# Keep only sampled users in user_tweets\n",
        "user_tweets = {uid: tweets for uid, tweets in user_tweets.items() if uid in sampled_ids}\n",
        "print(f\"✅ user_tweets filtered: {len(user_tweets)} users\")\n"
      ]
    },
    {
      "cell_type": "code",
      "source": [
        "# Save everything for training\n",
        "save_dir = \"/content/drive/MyDrive/TwiBot-22/prepared_data\"\n",
        "os.makedirs(save_dir, exist_ok=True)  # Create the save directory if it doesn't exist\n",
        "\n",
        "# Save selected user IDs (bot + human) used for training\n",
        "with open(os.path.join(save_dir, \"sampled_ids.pkl\"), \"wb\") as f:\n",
        "    pickle.dump(sampled_ids, f)\n",
        "\n",
        "# Save the filtered user DataFrame (contains only sampled users and relevant metadata)\n",
        "user_df.to_pickle(os.path.join(save_dir, \"user_df.pkl\"))\n",
        "\n",
        "# Save the label dictionary (user_id → \"bot\"/\"human\" label) for sampled users\n",
        "with open(os.path.join(save_dir, \"label_dict.pkl\"), \"wb\") as f:\n",
        "    pickle.dump(label_dict, f)\n",
        "\n",
        "# Save the tweet dictionary (user_id → list of tweets) for sampled users\n",
        "with open(os.path.join(save_dir, \"user_tweets.pkl\"), \"wb\") as f:\n",
        "    pickle.dump(user_tweets, f)\n",
        "\n",
        "# Save list of sampled bot user IDs\n",
        "with open(os.path.join(save_dir, \"sampled_bot_ids.pkl\"), \"wb\") as f:\n",
        "    pickle.dump(sampled_bot_ids, f)\n",
        "\n",
        "# Save list of sampled human user IDs\n",
        "with open(os.path.join(save_dir, \"sampled_human_ids.pkl\"), \"wb\") as f:\n",
        "    pickle.dump(sampled_human_ids, f)\n",
        "\n",
        "print(\"✅ Saved filtered user data to disk.\")\n"
      ],
      "metadata": {
        "id": "7DjTdnhXjHhI"
      },
      "execution_count": null,
      "outputs": []
    }
  ],
  "metadata": {
    "colab": {
      "provenance": [],
      "gpuType": "A100"
    },
    "kernelspec": {
      "display_name": "Python 3",
      "name": "python3"
    },
    "language_info": {
      "name": "python"
    },
    "accelerator": "GPU"
  },
  "nbformat": 4,
  "nbformat_minor": 0
}